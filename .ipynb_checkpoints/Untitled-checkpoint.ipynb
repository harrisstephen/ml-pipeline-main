{
 "cells": [
  {
   "cell_type": "code",
   "execution_count": 1,
   "id": "86c9df4c",
   "metadata": {},
   "outputs": [],
   "source": [
    "file_path=\"sample_data/sensor/aps_failure_training_set1.csv\""
   ]
  },
  {
   "cell_type": "code",
   "execution_count": 1,
   "id": "bb14cf55",
   "metadata": {},
   "outputs": [],
   "source": [
    "import os"
   ]
  },
  {
   "cell_type": "code",
   "execution_count": null,
   "id": "1e482f64",
   "metadata": {
    "collapsed": true
   },
   "outputs": [],
   "source": []
  }
 ],
 "metadata": {
  "kernelspec": {
   "display_name": "Python 3.9.13 ('base')",
   "language": "python",
   "name": "python3"
  },
  "language_info": {
   "codemirror_mode": {
    "name": "ipython",
    "version": 3
   },
   "file_extension": ".py",
   "mimetype": "text/x-python",
   "name": "python",
   "nbconvert_exporter": "python",
   "pygments_lexer": "ipython3",
   "version": "3.9.13"
  },
  "vscode": {
   "interpreter": {
    "hash": "c40be39e0b81a406fbfc2d0ebe2b1b66ed66eff9884dbd561b9c98af20696561"
   }
  }
 },
 "nbformat": 4,
 "nbformat_minor": 5
}
